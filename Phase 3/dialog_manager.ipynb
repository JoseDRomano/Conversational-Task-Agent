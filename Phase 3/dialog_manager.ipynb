{
 "cells": [
  {
   "cell_type": "code",
   "execution_count": 1,
   "metadata": {},
   "outputs": [
    {
     "name": "stderr",
     "output_type": "stream",
     "text": [
      "c:\\Users\\jaime\\AppData\\Local\\Programs\\Python\\Python39\\lib\\site-packages\\tqdm\\auto.py:21: TqdmWarning: IProgress not found. Please update jupyter and ipywidgets. See https://ipywidgets.readthedocs.io/en/stable/user_install.html\n",
      "  from .autonotebook import tqdm as notebook_tqdm\n"
     ]
    }
   ],
   "source": [
    "import intent\n",
    "import State"
   ]
  },
  {
   "cell_type": "code",
   "execution_count": 2,
   "metadata": {},
   "outputs": [],
   "source": [
    "WELCOME = \"welcome\"\n",
    "SEARCH = \"search\"\n",
    "LIST = \"list\"\n",
    "RECIPE = \"recipe\"\n",
    "INGREDIENTS = \"ingredients\"\n",
    "DESC = \"description\"\n",
    "STEPS = \"steps\"\n",
    "STOP = \"stop\""
   ]
  },
  {
   "cell_type": "code",
   "execution_count": 3,
   "metadata": {},
   "outputs": [],
   "source": [
    "YES_EVENT = \"YesIntent\"\n",
    "NO_EVENT = \"NoIntent\"\n",
    "IDENTIFY_EVENT = \"IdentifyProcessIntent\"\n",
    "WELCOME_EVENT = \"GreetingIntent\"\n",
    "NOTFOUND_EVENT = \"OutOfScopeIntent\"\n",
    "START_STEPS_EVENT = \"StartStepsIntent\"\n",
    "NEXT_EVENT = \"NextStepIntent\"\n",
    "PREVIOUS_EVENT = \"PreviousStepIntent\"\n",
    "STOP_EVENT = \"StopIntent\"\n",
    "RESTART = \"RepeatIntent\"\n",
    "SELECT = \"SelectIntent\""
   ]
  },
  {
   "cell_type": "code",
   "execution_count": 4,
   "metadata": {},
   "outputs": [],
   "source": [
    "welcome_dict =  {(WELCOME, YES_EVENT): SEARCH}\n",
    "welcome_intents = [YES_EVENT]\n",
    "welcome_message = \"Hello! Would you like to search for a recipe?\"\n",
    "Welcome_state = State.State(welcome_intents,welcome_message,WELCOME,welcome_dict)\n"
   ]
  },
  {
   "cell_type": "code",
   "execution_count": 5,
   "metadata": {},
   "outputs": [],
   "source": [
    "search_dict = {(SEARCH, IDENTIFY_EVENT): LIST, (SEARCH, STOP_EVENT): STOP, (SEARCH, RESTART): WELCOME}\n",
    "search_intents = [IDENTIFY_EVENT, STOP_EVENT, RESTART]\n",
    "search_message = \"That's great! What would you like to search for?\"\n",
    "Search_state = State.State(search_intents,search_message,SEARCH,search_dict)"
   ]
  },
  {
   "cell_type": "code",
   "execution_count": 6,
   "metadata": {},
   "outputs": [],
   "source": [
    "list_dict = {(LIST, SELECT): RECIPE, (LIST, STOP_EVENT): STOP, (LIST, RESTART): WELCOME}\n",
    "list_intents = [SELECT, STOP_EVENT, RESTART]\n",
    "list_message = \"Here is the list of recipes. Which one would you like to see?\"\n",
    "List_state = State.State(list_intents,list_message,LIST,list_dict)"
   ]
  },
  {
   "cell_type": "code",
   "execution_count": 7,
   "metadata": {},
   "outputs": [],
   "source": [
    "recipe_dict = {(RECIPE, IDENTIFY_EVENT): LIST, (RECIPE, STOP_EVENT): STOP, (RECIPE, RESTART): WELCOME}\n",
    "recipe_intents = [IDENTIFY_EVENT, STOP_EVENT, RESTART]\n",
    "recipe_message = \"Here is the recipe. Would you like to see the ingredients, steps, description or curiosity?\"\n",
    "Recipe_state = State.State(recipe_intents,recipe_message,RECIPE,recipe_dict)"
   ]
  },
  {
   "cell_type": "code",
   "execution_count": 8,
   "metadata": {},
   "outputs": [],
   "source": [
    "steps_dict = {(SEARCH, IDENTIFY_EVENT): LIST, (SEARCH, NO_EVENT): STOP, (SEARCH, RESTART): WELCOME}\n",
    "steps_intents = [IDENTIFY_EVENT, NO_EVENT, RESTART]\n",
    "steps_message = \"That's great! What would you like to search for?\"\n",
    "steps_state = State.State(search_intents,search_message,SEARCH,search_dict)"
   ]
  },
  {
   "cell_type": "code",
   "execution_count": 9,
   "metadata": {},
   "outputs": [],
   "source": [
    "desc_dict = {(SEARCH, IDENTIFY_EVENT): LIST, (SEARCH, NO_EVENT): STOP, (SEARCH, RESTART): WELCOME}\n",
    "desc_intents = [IDENTIFY_EVENT, NO_EVENT, RESTART]\n",
    "desc_message = \"That's great! What would you like to search for?\"\n",
    "desc_state = State.State(search_intents,search_message,SEARCH,search_dict)"
   ]
  },
  {
   "cell_type": "code",
   "execution_count": 10,
   "metadata": {},
   "outputs": [],
   "source": [
    "ingredients_dict = {(SEARCH, IDENTIFY_EVENT): LIST, (SEARCH, NO_EVENT): STOP, (SEARCH, RESTART): WELCOME}\n",
    "ingredients_intents = [IDENTIFY_EVENT, NO_EVENT, RESTART]\n",
    "ingredients_message = \"That's great! What would you like to search for?\"\n",
    "Ingredients_state = State.State(search_intents,search_message,SEARCH,search_dict)"
   ]
  },
  {
   "cell_type": "code",
   "execution_count": 11,
   "metadata": {},
   "outputs": [],
   "source": [
    "States = {WELCOME: Welcome_state, SEARCH: Search_state, LIST: List_state, RECIPE: Recipe_state, INGREDIENTS: Ingredients_state, DESC: desc_state, STEPS: steps_state, STOP: None}"
   ]
  },
  {
   "cell_type": "code",
   "execution_count": 12,
   "metadata": {},
   "outputs": [],
   "source": [
    "#intent.run(\"the third looks good\")"
   ]
  },
  {
   "cell_type": "code",
   "execution_count": 13,
   "metadata": {},
   "outputs": [],
   "source": [
    "import connect\n",
    "client, index_name = connect.get_data()\n",
    "\n",
    "class DialogManager():\n",
    "\n",
    "    UNKNOWN_OPT = \"Unkonwn option. Please try again.\"\n",
    "\n",
    "    def __init__(self):\n",
    "        self.state = States[WELCOME]\n",
    "        self.current_Intent = None\n",
    "        self.input = None\n",
    "        self.intent = None\n",
    "        self.recipe_list = None\n",
    "        self.recipe = None\n",
    "        self.first = True\n",
    "    \n",
    "    def get_option(self):\n",
    "        if \"1st\" in self.input or \"first\" in self.input or \"1\" in self.input:\n",
    "            self.recipe = self.recipe_list[0]\n",
    "        elif \"2nd\" in self.input or \"second\" in self.input or \"2\" in self.input:\n",
    "            self.recipe = self.recipe_list[1]\n",
    "        elif \"3rd\" in self.input or \"third\" in self.input or \"3\" in self.input:\n",
    "            self.recipe = self.recipe_list[2]\n",
    "        elif \"4th\" in self.input or \"fourth\" in self.input or \"4\" in self.input:\n",
    "            self.recipe = self.recipe_list[3]\n",
    "        elif \"5th\" in self.input or \"fifth\" in self.input or \"5\" in self.input or \"last\" in self.input:\n",
    "            self.recipe = self.recipe_list[4]\n",
    "        else:\n",
    "            self.recipe = self.UNKNOWN_OPT\n",
    "    \n",
    "    def run(self):\n",
    "        while self.current_Intent != STOP_EVENT:\n",
    "            print(self.state._message)\n",
    "            self.input = str(input())   #input\n",
    "            self.intent = intent.run(self.input)    #predict intent\n",
    "            self.state.set_intent(self.intent)      #set intent\n",
    "            self.current_Intent = self.state.get_intent()   #change current\n",
    "            if self.current_Intent == STOP_EVENT or (self.state == Welcome_state and self.intent == NO_EVENT):\n",
    "                break\n",
    "            elif self.state.isStateIntent():    #state with something to do\n",
    "                self.state = States[self.state.nextState()]\n",
    "\n",
    "                if(self.first):\n",
    "                    if self.state.get_state() == RECIPE:\n",
    "                        self.get_option()\n",
    "                        self.first = False\n",
    "                        if self.recipe == self.UNKNOWN_OPT:\n",
    "                            print(self.UNKNOWN_OPT)\n",
    "                            continue\n",
    "\n",
    "                self.recipe_list = self.state.execute(client, index_name, self.input, self.recipe)\n",
    "            \n",
    "                #print(\"Next state: \" + self.state._state)\n",
    "            else:\n",
    "                print(\"Couldn't understand what you were looking for. Please try again.\")\n",
    "                continue\n",
    "        print(\"Goodbye!\") "
   ]
  },
  {
   "cell_type": "code",
   "execution_count": 14,
   "metadata": {},
   "outputs": [],
   "source": [
    "dm = DialogManager()"
   ]
  },
  {
   "cell_type": "code",
   "execution_count": 15,
   "metadata": {},
   "outputs": [
    {
     "name": "stdout",
     "output_type": "stream",
     "text": [
      "Hello! Would you like to search for a recipe?\n",
      "WARNING:tensorflow:From c:\\Users\\jaime\\AppData\\Local\\Programs\\Python\\Python39\\lib\\site-packages\\tf_keras\\src\\losses.py:2976: The name tf.losses.sparse_softmax_cross_entropy is deprecated. Please use tf.compat.v1.losses.sparse_softmax_cross_entropy instead.\n",
      "\n",
      "That's great! What would you like to search for?\n",
      "Couldn't understand what you were looking for. Please try again.\n",
      "That's great! What would you like to search for?\n",
      "\n",
      "'How To Make The Best Homemade Pizza'\n",
      "\n",
      "'How To Make Homemade Pizza Sauce'\n",
      "\n",
      "'Home-Made Pizza'\n",
      "\n",
      "'Pizza Dough I'\n",
      "\n",
      "'Dessert Pizza'\n",
      "\n",
      "Here is the list of recipes. Which one would you like to see?\n",
      "\n",
      "Ask something!\n",
      "\n",
      "i want the instructions\n",
      "\n",
      "\"Ready to dive in? Step 1: \\u201cBloom\\u201d the yeast by sprinkling the sugar and yeast in the warm water. Let sit for 10 minutes, until bubbles form on the surface. \"\n",
      "\n",
      "\n",
      "next step\n",
      "\n",
      "\"Step 2: In a large bowl, combine the flour and salt. Make a well in the middle and add the olive oil and bloomed yeast mixture. Using a spoon, mix until a shaggy dough begins to form. \"\n",
      "\n",
      "\n",
      "last step\n",
      "\n",
      "\"The last step is here! Step 10: Sprinkle semolina onto an upside down baking sheet and place the stretched crust onto it. Add the sauce and ingredients of your choice. \"\n",
      "\n",
      "\n",
      "i want the step before this one\n",
      "\n",
      "\"Let's go back to the previous step, Step 9: Lightly flour the dough, then cover with a kitchen towel and let rest for another 30 minutes to an hour while you prepare the sauce and any other ingredients. \"\n",
      "\n",
      "\n",
      "\n",
      "\n",
      "\"Step 10: Sprinkle semolina onto an upside down baking sheet and place the stretched crust onto it. Add the sauce and ingredients of your choice. \"\n",
      "\n",
      "\n",
      "\n",
      "\n",
      "\"Time to bring it all together! Step 11: Sprinkle semolina onto an upside down baking sheet and place the stretched crust onto it. Add the sauce and ingredients of your choice. \"\n",
      "\n",
      "Here is the recipe. Would you like to see the ingredients, steps, description or curiosity?\n",
      "Goodbye!\n"
     ]
    }
   ],
   "source": [
    "#I want a pizza recipe\n",
    "#3rd\n",
    "\n",
    "dm.run()"
   ]
  }
 ],
 "metadata": {
  "kernelspec": {
   "display_name": "Python 3",
   "language": "python",
   "name": "python3"
  },
  "language_info": {
   "codemirror_mode": {
    "name": "ipython",
    "version": 3
   },
   "file_extension": ".py",
   "mimetype": "text/x-python",
   "name": "python",
   "nbconvert_exporter": "python",
   "pygments_lexer": "ipython3",
   "version": "3.9.13"
  }
 },
 "nbformat": 4,
 "nbformat_minor": 2
}
