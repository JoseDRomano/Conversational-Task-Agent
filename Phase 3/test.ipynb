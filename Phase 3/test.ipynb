{
 "cells": [
  {
   "cell_type": "markdown",
   "metadata": {},
   "source": []
  },
  {
   "cell_type": "code",
   "execution_count": 1,
   "metadata": {},
   "outputs": [],
   "source": [
    "import intent\n",
    "import State"
   ]
  },
  {
   "cell_type": "code",
   "execution_count": 2,
   "metadata": {},
   "outputs": [],
   "source": [
    "WELCOME = \"welcome\"\n",
    "SEARCH = \"search\"\n",
    "LIST = \"list\"\n",
    "RECIPE = \"recipe\"\n",
    "INGREDIENTS = \"ingredients\"\n",
    "DESC = \"description\"\n",
    "STEPS = \"steps\"\n",
    "STOP = \"stop\"\n"
   ]
  },
  {
   "cell_type": "code",
   "execution_count": 4,
   "metadata": {},
   "outputs": [],
   "source": [
    "YES_EVENT = \"YesIntent\"\n",
    "NO_EVENT = \"NoIntent\"\n",
    "IDENTIFY_EVENT = \"IdentifyProcessIntent\"\n",
    "WELCOME_EVENT = \"GreetingIntent\"\n",
    "NOTFOUND_EVENT = \"OutOfScopeIntent\"\n",
    "START_STEPS_EVENT = \"StartStepsIntent\"\n",
    "NEXT_EVENT = \"NextStepIntent\"\n",
    "PREVIOUS_EVENT = \"PreviousStepIntent\"\n",
    "STOP_EVENT = \"StopIntent\"\n",
    "RESTART = \"RepeatIntent\"\n",
    "SELECT = \"SelectIntent\""
   ]
  },
  {
   "cell_type": "code",
   "execution_count": 6,
   "metadata": {},
   "outputs": [],
   "source": [
    "welcome_dict =  {(WELCOME, YES_EVENT): SEARCH, (WELCOME, NO_EVENT): STOP}\n",
    "welcome_intents = [YES_EVENT, NO_EVENT]\n",
    "welcome_message = \"Hello! Would you like to search for a recipe?\"\n",
    "Welcome_state = State.State(welcome_intents,welcome_message,WELCOME,welcome_dict)\n"
   ]
  },
  {
   "cell_type": "code",
   "execution_count": 10,
   "metadata": {},
   "outputs": [],
   "source": [
    "search_dict = {(SEARCH, IDENTIFY_EVENT): LIST, (SEARCH, NO_EVENT): STOP, (SEARCH, RESTART): WELCOME}\n",
    "search_intents = [IDENTIFY_EVENT, NO_EVENT, RESTART]\n",
    "search_message = \"That's great! What would you like to search for?\"\n",
    "Search_state = State.State(search_intents,search_message,SEARCH,search_dict)"
   ]
  },
  {
   "cell_type": "code",
   "execution_count": 12,
   "metadata": {},
   "outputs": [
    {
     "data": {
      "text/plain": [
       "['IdentifyProcessIntent', 'NoIntent', 'RepeatIntent']"
      ]
     },
     "execution_count": 12,
     "metadata": {},
     "output_type": "execute_result"
    }
   ],
   "source": [
    "list_dict = {(SEARCH, SELECT): RECIPE, (SEARCH, NO_EVENT): STOP, (SEARCH, RESTART): WELCOME}\n",
    "list_intents = [SELECT, NO_EVENT, RESTART]\n",
    "list_message = \"Here is the list of recipes. Which one would you like to see?\"\n",
    "List_state = State.State(list_intents,list_message,LIST,list_dict)"
   ]
  },
  {
   "cell_type": "code",
   "execution_count": null,
   "metadata": {},
   "outputs": [],
   "source": [
    "recipe_dict = {(SEARCH, IDENTIFY_EVENT): LIST, (SEARCH, NO_EVENT): STOP, (SEARCH, RESTART): WELCOME}\n",
    "recipe_intents = [IDENTIFY_EVENT, NO_EVENT, RESTART]\n",
    "recipe_message = \"Here is the recipe. Would you like to see the ingredients, steps, description or curiosity?\"\n",
    "Recipe_state = State.State(recipe_intents,recipe_message,RECIPE,recipe_dict)"
   ]
  },
  {
   "cell_type": "code",
   "execution_count": null,
   "metadata": {},
   "outputs": [],
   "source": [
    "steps_dict = {(SEARCH, IDENTIFY_EVENT): LIST, (SEARCH, NO_EVENT): STOP, (SEARCH, RESTART): WELCOME}\n",
    "steps_intents = [IDENTIFY_EVENT, NO_EVENT, RESTART]\n",
    "steps_message = \"That's great! What would you like to search for?\"\n",
    "steps_state = State.State(search_intents,search_message,SEARCH,search_dict)"
   ]
  },
  {
   "cell_type": "code",
   "execution_count": null,
   "metadata": {},
   "outputs": [],
   "source": [
    "desc_dict = {(SEARCH, IDENTIFY_EVENT): LIST, (SEARCH, NO_EVENT): STOP, (SEARCH, RESTART): WELCOME}\n",
    "desc_intents = [IDENTIFY_EVENT, NO_EVENT, RESTART]\n",
    "desc_message = \"That's great! What would you like to search for?\"\n",
    "desc_state = State.State(search_intents,search_message,SEARCH,search_dict)"
   ]
  },
  {
   "cell_type": "code",
   "execution_count": null,
   "metadata": {},
   "outputs": [],
   "source": [
    "ingredients_dict = {(SEARCH, IDENTIFY_EVENT): LIST, (SEARCH, NO_EVENT): STOP, (SEARCH, RESTART): WELCOME}\n",
    "ingredients_intents = [IDENTIFY_EVENT, NO_EVENT, RESTART]\n",
    "ingredients_message = \"That's great! What would you like to search for?\"\n",
    "Ingredients_state = State.State(search_intents,search_message,SEARCH,search_dict)"
   ]
  },
  {
   "cell_type": "code",
   "execution_count": null,
   "metadata": {},
   "outputs": [],
   "source": []
  },
  {
   "cell_type": "code",
   "execution_count": 11,
   "metadata": {},
   "outputs": [
    {
     "name": "stdout",
     "output_type": "stream",
     "text": [
      "Intent not found in mapping\n",
      "Intent: PreviousStepIntent\n"
     ]
    },
    {
     "data": {
      "text/plain": [
       "'PreviousStepIntent'"
      ]
     },
     "execution_count": 11,
     "metadata": {},
     "output_type": "execute_result"
    }
   ],
   "source": [
    "intent.run(\"back\")"
   ]
  },
  {
   "cell_type": "code",
   "execution_count": null,
   "metadata": {},
   "outputs": [],
   "source": []
  }
 ],
 "metadata": {
  "kernelspec": {
   "display_name": "Python 3",
   "language": "python",
   "name": "python3"
  },
  "language_info": {
   "codemirror_mode": {
    "name": "ipython",
    "version": 3
   },
   "file_extension": ".py",
   "mimetype": "text/x-python",
   "name": "python",
   "nbconvert_exporter": "python",
   "pygments_lexer": "ipython3",
   "version": "3.9.18"
  }
 },
 "nbformat": 4,
 "nbformat_minor": 2
}
