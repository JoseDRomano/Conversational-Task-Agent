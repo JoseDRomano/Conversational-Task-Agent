{
 "cells": [
  {
   "cell_type": "code",
   "execution_count": 301,
   "metadata": {},
   "outputs": [],
   "source": [
    "import intent\n",
    "import State"
   ]
  },
  {
   "cell_type": "code",
   "execution_count": 302,
   "metadata": {},
   "outputs": [],
   "source": [
    "WELCOME = \"welcome\"\n",
    "SEARCH = \"search\"\n",
    "LIST = \"list\"\n",
    "RECIPE = \"recipe\"\n",
    "INGREDIENTS = \"ingredients\"\n",
    "DESC = \"description\"\n",
    "STEPS = \"steps\"\n",
    "STOP = \"stop\""
   ]
  },
  {
   "cell_type": "code",
   "execution_count": 303,
   "metadata": {},
   "outputs": [],
   "source": [
    "YES_EVENT = \"YesIntent\"\n",
    "NO_EVENT = \"NoIntent\"\n",
    "IDENTIFY_EVENT = \"IdentifyProcessIntent\"\n",
    "WELCOME_EVENT = \"GreetingIntent\"\n",
    "NOTFOUND_EVENT = \"OutOfScopeIntent\"\n",
    "START_STEPS_EVENT = \"StartStepsIntent\"\n",
    "NEXT_EVENT = \"NextStepIntent\"\n",
    "PREVIOUS_EVENT = \"PreviousStepIntent\"\n",
    "STOP_EVENT = \"StopIntent\"\n",
    "RESTART = \"RepeatIntent\"\n",
    "SELECT = \"SelectIntent\""
   ]
  },
  {
   "cell_type": "code",
   "execution_count": 304,
   "metadata": {},
   "outputs": [],
   "source": [
    "welcome_dict =  {(WELCOME, YES_EVENT): SEARCH}\n",
    "welcome_intents = [YES_EVENT]\n",
    "welcome_message = \"Hello! Would you like to search for a recipe?\"\n",
    "Welcome_state = State.State(welcome_intents,welcome_message,WELCOME,welcome_dict)\n"
   ]
  },
  {
   "cell_type": "code",
   "execution_count": 305,
   "metadata": {},
   "outputs": [],
   "source": [
    "search_dict = {(SEARCH, IDENTIFY_EVENT): LIST, (SEARCH, STOP_EVENT): STOP, (SEARCH, RESTART): WELCOME}\n",
    "search_intents = [IDENTIFY_EVENT, STOP_EVENT, RESTART]\n",
    "search_message = \"That's great! What would you like to search for?\"\n",
    "Search_state = State.State(search_intents,search_message,SEARCH,search_dict)"
   ]
  },
  {
   "cell_type": "code",
   "execution_count": 306,
   "metadata": {},
   "outputs": [],
   "source": [
    "list_dict = {(LIST, SELECT): RECIPE, (LIST, STOP_EVENT): STOP, (LIST, RESTART): WELCOME}\n",
    "list_intents = [SELECT, STOP_EVENT, RESTART]\n",
    "list_message = \"Here is the list of recipes. Which one would you like to see?\"\n",
    "List_state = State.State(list_intents,list_message,LIST,list_dict)"
   ]
  },
  {
   "cell_type": "code",
   "execution_count": 307,
   "metadata": {},
   "outputs": [],
   "source": [
    "recipe_dict = {(RECIPE, IDENTIFY_EVENT): LIST, (RECIPE, STOP_EVENT): STOP, (RECIPE, RESTART): WELCOME}\n",
    "recipe_intents = [IDENTIFY_EVENT, STOP_EVENT, RESTART]\n",
    "recipe_message = \"Here is the recipe. Would you like to see the ingredients, steps, description or curiosity?\"\n",
    "Recipe_state = State.State(recipe_intents,recipe_message,RECIPE,recipe_dict)"
   ]
  },
  {
   "cell_type": "code",
   "execution_count": 308,
   "metadata": {},
   "outputs": [],
   "source": [
    "steps_dict = {(SEARCH, IDENTIFY_EVENT): LIST, (SEARCH, NO_EVENT): STOP, (SEARCH, RESTART): WELCOME}\n",
    "steps_intents = [IDENTIFY_EVENT, NO_EVENT, RESTART]\n",
    "steps_message = \"That's great! What would you like to search for?\"\n",
    "steps_state = State.State(search_intents,search_message,SEARCH,search_dict)"
   ]
  },
  {
   "cell_type": "code",
   "execution_count": 309,
   "metadata": {},
   "outputs": [],
   "source": [
    "desc_dict = {(SEARCH, IDENTIFY_EVENT): LIST, (SEARCH, NO_EVENT): STOP, (SEARCH, RESTART): WELCOME}\n",
    "desc_intents = [IDENTIFY_EVENT, NO_EVENT, RESTART]\n",
    "desc_message = \"That's great! What would you like to search for?\"\n",
    "desc_state = State.State(search_intents,search_message,SEARCH,search_dict)"
   ]
  },
  {
   "cell_type": "code",
   "execution_count": 310,
   "metadata": {},
   "outputs": [],
   "source": [
    "ingredients_dict = {(SEARCH, IDENTIFY_EVENT): LIST, (SEARCH, NO_EVENT): STOP, (SEARCH, RESTART): WELCOME}\n",
    "ingredients_intents = [IDENTIFY_EVENT, NO_EVENT, RESTART]\n",
    "ingredients_message = \"That's great! What would you like to search for?\"\n",
    "Ingredients_state = State.State(search_intents,search_message,SEARCH,search_dict)"
   ]
  },
  {
   "cell_type": "code",
   "execution_count": 311,
   "metadata": {},
   "outputs": [],
   "source": [
    "States = {WELCOME: Welcome_state, SEARCH: Search_state, LIST: List_state, RECIPE: Recipe_state, INGREDIENTS: Ingredients_state, DESC: desc_state, STEPS: steps_state, STOP: None}"
   ]
  },
  {
   "cell_type": "code",
   "execution_count": 312,
   "metadata": {},
   "outputs": [
    {
     "data": {
      "text/plain": [
       "'StopIntent'"
      ]
     },
     "execution_count": 312,
     "metadata": {},
     "output_type": "execute_result"
    }
   ],
   "source": [
    "intent.run(\"quit\")"
   ]
  },
  {
   "cell_type": "code",
   "execution_count": 313,
   "metadata": {},
   "outputs": [],
   "source": [
    "class DialogManager():\n",
    "    def __init__(self):\n",
    "        self.state = States[WELCOME]\n",
    "        self.current_Intent = None\n",
    "        self.input = None\n",
    "        self.intent = None\n",
    "        \n",
    "    def run(self):\n",
    "        while self.current_Intent != STOP_EVENT:\n",
    "            print(self.state._message)\n",
    "            self.input = str(input())\n",
    "            self.intent = intent.run(self.input)\n",
    "            self.state.set_intent(self.intent)\n",
    "            self.current_Intent = self.state.get_intent()\n",
    "            if self.state.get_intent() == STOP_EVENT or (self.state == Welcome_state and self.intent == NO_EVENT):\n",
    "                break\n",
    "            elif self.state.isStateIntent():\n",
    "                self.state = States[self.state.nextState()]\n",
    "                print(\"Next state: \" + self.state._state)\n",
    "            else:\n",
    "                print(\"Couldn't understand what you were looking for. Please try again.\")\n",
    "                continue\n",
    "        print(\"Goodbye!\")      \n",
    "            \n",
    "\n",
    "\n",
    "       "
   ]
  },
  {
   "cell_type": "code",
   "execution_count": 314,
   "metadata": {},
   "outputs": [],
   "source": [
    "dm = DialogManager()"
   ]
  },
  {
   "cell_type": "code",
   "execution_count": 315,
   "metadata": {},
   "outputs": [
    {
     "name": "stdout",
     "output_type": "stream",
     "text": [
      "Hello! Would you like to search for a recipe?\n"
     ]
    },
    {
     "name": "stdout",
     "output_type": "stream",
     "text": [
      "CRL YesIntent\n",
      "Next state: search\n",
      "That's great! What would you like to search for?\n",
      "CRL StopIntent\n"
     ]
    },
    {
     "ename": "AttributeError",
     "evalue": "'NoneType' object has no attribute '_state'",
     "output_type": "error",
     "traceback": [
      "\u001b[0;31m---------------------------------------------------------------------------\u001b[0m",
      "\u001b[0;31mAttributeError\u001b[0m                            Traceback (most recent call last)",
      "Cell \u001b[0;32mIn[315], line 1\u001b[0m\n\u001b[0;32m----> 1\u001b[0m \u001b[43mdm\u001b[49m\u001b[38;5;241;43m.\u001b[39;49m\u001b[43mrun\u001b[49m\u001b[43m(\u001b[49m\u001b[43m)\u001b[49m\n",
      "Cell \u001b[0;32mIn[313], line 20\u001b[0m, in \u001b[0;36mDialogManager.run\u001b[0;34m(self)\u001b[0m\n\u001b[1;32m     18\u001b[0m \u001b[38;5;28;01melif\u001b[39;00m \u001b[38;5;28mself\u001b[39m\u001b[38;5;241m.\u001b[39mstate\u001b[38;5;241m.\u001b[39misStateIntent():\n\u001b[1;32m     19\u001b[0m     \u001b[38;5;28mself\u001b[39m\u001b[38;5;241m.\u001b[39mstate \u001b[38;5;241m=\u001b[39m States[\u001b[38;5;28mself\u001b[39m\u001b[38;5;241m.\u001b[39mstate\u001b[38;5;241m.\u001b[39mnextState()]\n\u001b[0;32m---> 20\u001b[0m     \u001b[38;5;28mprint\u001b[39m(\u001b[38;5;124m\"\u001b[39m\u001b[38;5;124mNext state: \u001b[39m\u001b[38;5;124m\"\u001b[39m \u001b[38;5;241m+\u001b[39m \u001b[38;5;28;43mself\u001b[39;49m\u001b[38;5;241;43m.\u001b[39;49m\u001b[43mstate\u001b[49m\u001b[38;5;241;43m.\u001b[39;49m\u001b[43m_state\u001b[49m)\n\u001b[1;32m     22\u001b[0m \u001b[38;5;28;01melse\u001b[39;00m:\n\u001b[1;32m     23\u001b[0m     \u001b[38;5;28mprint\u001b[39m(\u001b[38;5;124m\"\u001b[39m\u001b[38;5;124mCouldn\u001b[39m\u001b[38;5;124m'\u001b[39m\u001b[38;5;124mt understand what you were looking for. Please try again.\u001b[39m\u001b[38;5;124m\"\u001b[39m)\n",
      "\u001b[0;31mAttributeError\u001b[0m: 'NoneType' object has no attribute '_state'"
     ]
    }
   ],
   "source": [
    "dm.run()"
   ]
  },
  {
   "cell_type": "code",
   "execution_count": null,
   "metadata": {},
   "outputs": [],
   "source": []
  }
 ],
 "metadata": {
  "kernelspec": {
   "display_name": "Python 3",
   "language": "python",
   "name": "python3"
  },
  "language_info": {
   "codemirror_mode": {
    "name": "ipython",
    "version": 3
   },
   "file_extension": ".py",
   "mimetype": "text/x-python",
   "name": "python",
   "nbconvert_exporter": "python",
   "pygments_lexer": "ipython3",
   "version": "3.9.18"
  }
 },
 "nbformat": 4,
 "nbformat_minor": 2
}
