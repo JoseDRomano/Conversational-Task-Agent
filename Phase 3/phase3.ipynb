{
 "cells": [
  {
   "cell_type": "markdown",
   "metadata": {},
   "source": [
    "## Intent detector"
   ]
  },
  {
   "cell_type": "code",
   "execution_count": 54,
   "metadata": {},
   "outputs": [],
   "source": [
    "user_input = \"I completely agree with you!\"\n",
    "\n",
    "import json\n",
    "import torch\n",
    "from transformers import AutoModelForSequenceClassification, AutoTokenizer, pipeline\n",
    "\n",
    "with open(\"all_intents.json\", 'r') as json_in: # all_intents.json can be found in the task-intent-detector/model_code directory\n",
    "    data = json.load(json_in)\n",
    "\n",
    "id_to_intent, intent_to_id = dict(), dict()\n",
    "for i, intent in enumerate(data):\n",
    "    id_to_intent[i] = intent\n",
    "    intent_to_id[intent] = i\n",
    "\n",
    "model = AutoModelForSequenceClassification.from_pretrained(\"NOVA-vision-language/task-intent-detector\", num_labels=len(data), id2label=id_to_intent, label2id=intent_to_id)\n",
    "tokenizer = AutoTokenizer.from_pretrained(\"roberta-base\") # you could try 'NOVA-vision-language/task-intent-detector', but I'm not sure I configured it correctly\n",
    "\n",
    "model_in = tokenizer(user_input, return_tensors='pt')\n",
    "with torch.no_grad():\n",
    "    logits = model(**model_in).logits # grab the predictions out of the model's classification head\n",
    "    predicted_class_id = logits.argmax().item() # grab the index of the highest scoring output\n",
    "    predicted_intent = model.config.id2label[predicted_class_id] # use the translation table we just created to translate between that id and the actual intent name"
   ]
  },
  {
   "cell_type": "markdown",
   "metadata": {},
   "source": [
    "## Slot-filling with QA"
   ]
  },
  {
   "cell_type": "code",
   "execution_count": 60,
   "metadata": {},
   "outputs": [
    {
     "name": "stdout",
     "output_type": "stream",
     "text": [
      "Intent: YesIntent\n",
      "\n"
     ]
    }
   ],
   "source": [
    "intent_slot_mapping = {\n",
    "    \"GreetingIntent\": ['What is the time of day', 'What is the name of the user?'],  # (1) Greetings\n",
    "    \"IdentifyProcessIntent\": ['What are the ingredients?', 'What is the cuisine type?', 'What is the meal type?'],  # (2) Search recipe\n",
    "    \"OutOfScopeIntent\": [],  # (3) Out of scope\n",
    "    \"YesIntent\": [],  # (4) Yes\n",
    "    \"NoIntent\": [],  # (5) No\n",
    "    \"StartStepsIntent\": ['What is the recipe?'],  # (6) Start task\n",
    "    \"NextStepIntent\": ['Current Step Number'],  # (7) Next\n",
    "    \"StopIntent\": ['What is the reason for stopping?'],  # (8) Stop\n",
    "}\n",
    "\n",
    "\n",
    "model_name = \"deepset/roberta-base-squad2\"\n",
    "\n",
    "nlp = pipeline('question-answering', model=model_name, tokenizer=model_name)\n",
    "\n",
    "if predicted_intent in intent_slot_mapping:\n",
    "    print('Intent: ' + predicted_intent + '\\n')\n",
    "    for slot in intent_slot_mapping[predicted_intent]:\n",
    "        QA_input = {\n",
    "            'question': slot,\n",
    "            'context': user_input\n",
    "        }\n",
    "        res = nlp(QA_input)\n",
    "        print('Slot: ' + slot)\n",
    "        print('Slot Value: ' + str(res) + '\\n')\n",
    "else:\n",
    "    print(\"Intent not found in mapping\")\n",
    "    print(\"Intent: \" + predicted_intent)"
   ]
  },
  {
   "cell_type": "code",
   "execution_count": 53,
   "metadata": {},
   "outputs": [
    {
     "data": {
      "text/plain": [
       "{'score': 0.005084468983113766,\n",
       " 'start': 18,\n",
       " 'end': 62,\n",
       " 'answer': 'Indian lunch recipe that has chicken breasts'}"
      ]
     },
     "execution_count": 53,
     "metadata": {},
     "output_type": "execute_result"
    }
   ],
   "source": [
    "from transformers import AutoModelForQuestionAnswering, AutoTokenizer, pipeline\n",
    "\n",
    "model_name = \"deepset/roberta-base-squad2\"\n",
    "\n",
    "# a) Get predictions\n",
    "nlp = pipeline('question-answering', model=model_name, tokenizer=model_name)\n",
    "QA_input = {\n",
    "    'question': 'Meal Type',\n",
    "    'context': 'Give me a typical Indian lunch recipe that has chicken breasts as an ingredient'\n",
    "}\n",
    "res = nlp(QA_input)\n",
    "res"
   ]
  }
 ],
 "metadata": {
  "kernelspec": {
   "display_name": "Python 3",
   "language": "python",
   "name": "python3"
  },
  "language_info": {
   "codemirror_mode": {
    "name": "ipython",
    "version": 3
   },
   "file_extension": ".py",
   "mimetype": "text/x-python",
   "name": "python",
   "nbconvert_exporter": "python",
   "pygments_lexer": "ipython3",
   "version": "3.9.13"
  }
 },
 "nbformat": 4,
 "nbformat_minor": 2
}
