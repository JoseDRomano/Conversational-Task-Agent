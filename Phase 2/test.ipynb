{
 "cells": [
  {
   "cell_type": "markdown",
   "metadata": {},
   "source": [
    "# PlanLLM usage"
   ]
  },
  {
   "cell_type": "code",
   "execution_count": 11,
   "metadata": {},
   "outputs": [],
   "source": [
    "import json\n",
    "import recipe_parser as rp\n",
    "import os\n",
    "import requests\n",
    "import random"
   ]
  },
  {
   "cell_type": "code",
   "execution_count": 12,
   "metadata": {},
   "outputs": [
    {
     "name": "stdout",
     "output_type": "stream",
     "text": [
      "Number of recipes: 994\n",
      "Recipe number 187\n"
     ]
    },
    {
     "data": {
      "text/plain": [
       "{'dialog_id': '1',\n",
       " 'system_tone': 'neutral',\n",
       " 'task': {'recipe': {'displayName': 'How to Cut and Core Cauliflower',\n",
       "   'instructions': [{'stepText': 'Pull leaves off base of cauliflower.'},\n",
       "    {'stepText': 'Cut cauliflower in half from the top of the crown through the stem.'},\n",
       "    {'stepText': 'Lay the cauliflower halves cut side down on the cutting board and cut them vertically again.'},\n",
       "    {'stepText': 'Lay the cauliflower quarter on the cutting board and angle the knife so that it cuts out the core. Repeat with remaining quarters of cauliflower.'},\n",
       "    {'stepText': 'Pull apart the cauliflower florets.'}]}},\n",
       " 'dialog': []}"
      ]
     },
     "execution_count": 12,
     "metadata": {},
     "output_type": "execute_result"
    }
   ],
   "source": [
    "recipe_len = len(rp.get_recipes())\n",
    "\n",
    "\n",
    "recipe_num = str(random.randint(0, recipe_len - 1))\n",
    "\n",
    "print (f\"Number of recipes: {recipe_len}\")\n",
    "print (f\"Recipe number {recipe_num}\")\n",
    "\n",
    "displayName = rp.get_recipes()[recipe_num][\"displayName\"]\n",
    "instructions = rp.get_recipes()[recipe_num][\"instructions\"]\n",
    "numInstructions = len(instructions)\n",
    "\n",
    "instructionsText = []\n",
    "\n",
    "for i in range(numInstructions):\n",
    "    instructionsText.append(instructions[i][\"stepText\"])\n",
    "\n",
    "\n",
    "with open('conversation.json') as f:\n",
    "    conversation = json.load(f)\n",
    "\n",
    "conversation['task']['recipe']['displayName'] = displayName\n",
    "conversation['task']['recipe']['instructions'] = [{'stepText': instruction} for instruction in instructionsText]\n",
    "conversation['dialog'] = []\n",
    "\n",
    "with open('conversation.json', 'w') as f:\n",
    "    json.dump(conversation, f)\n",
    "\n",
    "conversation\n"
   ]
  },
  {
   "cell_type": "code",
   "execution_count": 13,
   "metadata": {},
   "outputs": [
    {
     "name": "stdout",
     "output_type": "stream",
     "text": [
      "Whats the recipe about\n",
      "\"Let's get cooking! Step 1: Pull leaves off base of cauliflower. \"\n",
      "\n",
      "Give me the ingredients\n",
      "\"The ingredients for this recipe are: \\u2753 Cauliflower \\u2753 Leaves \\u2753 Knife \\u2753 Board \\u2753 Cutting board \\u2753 Kitchen Shears \"\n",
      "\n",
      "give me the first step\n",
      "\"Step 2: Cut cauliflower in half from the top of the crown through the stem. \"\n",
      "\n",
      "How do I start the recipe\n",
      "\"Ready to dive in? Step 1: Pull leaves off base of cauliflower. \"\n",
      "\n",
      "nexty\n",
      "\"Step 2: Cut cauliflower in half from the top of the crown through the stem. \"\n",
      "\n",
      "next\n",
      "\"Step 3: Lay the cauliflower halves cut side down on the cutting board and cut them vertically again. \"\n",
      "\n",
      "exit()\n",
      "\"Sure, I will take you back to the search interface where you can continue your search or look for another task. Is there anything else I can assist you with? \"\n",
      "\n",
      "exit()\n",
      "\"Sure, I'll take you back to the list of recipes or DIY tasks. Is there anything else you need help with or would you like to continue with a different task? \"\n",
      "\n"
     ]
    }
   ],
   "source": [
    "external_url = \"https://twiz.novasearch.org/\"\n",
    "max_timeout = 10\n",
    "\n",
    "def test_structured_post_request(url: str, conversation):\n",
    "\n",
    "    url = os.path.join(url, \"structured\")\n",
    "\n",
    "    # check this file to understand the structure of the data\n",
    "    # with open('conversation.json') as f:\n",
    "    #     data = json.load(f)\n",
    "\n",
    "    data = {\n",
    "        \"dialog\": conversation,\n",
    "        \"max_tokens\": 100,\n",
    "        \"temperature\": 0.0,\n",
    "        \"top_p\": 1,\n",
    "        \"top_k\": -1,\n",
    "    }\n",
    "\n",
    "    # Make the POST request\n",
    "    response = requests.post(url, json=data, timeout=max_timeout)\n",
    "\n",
    "    # Check if the request was successful (status code 200)\n",
    "    if response.status_code == 200:\n",
    "        return response.text\n",
    "    else:\n",
    "        print(\"POST request failed with status code:\", response.status_code)\n",
    "\n",
    "current_step = 0\n",
    "user = input(\"Ask something!\")\n",
    "while (user != \"quit()\"):\n",
    "    print(user)\n",
    "\n",
    "    with open('conversation.json') as f:\n",
    "        conversation = json.load(f)\n",
    "\n",
    "    conversation['dialog'].append({'current_step' : current_step, 'user' : user})\n",
    "\n",
    "    response = test_structured_post_request(external_url, conversation)\n",
    "\n",
    "    print(response)\n",
    "\n",
    "    conversation['dialog'][current_step]['system'] = response\n",
    "\n",
    "    with open('conversation.json', 'w') as f:\n",
    "        json.dump(conversation, f)\n",
    "\n",
    "    user = input()\n",
    "    current_step += 1"
   ]
  }
 ],
 "metadata": {
  "kernelspec": {
   "display_name": "nlp-cv-ir",
   "language": "python",
   "name": "python3"
  },
  "language_info": {
   "codemirror_mode": {
    "name": "ipython",
    "version": 3
   },
   "file_extension": ".py",
   "mimetype": "text/x-python",
   "name": "python",
   "nbconvert_exporter": "python",
   "pygments_lexer": "ipython3",
   "version": "3.9.18"
  }
 },
 "nbformat": 4,
 "nbformat_minor": 2
}
