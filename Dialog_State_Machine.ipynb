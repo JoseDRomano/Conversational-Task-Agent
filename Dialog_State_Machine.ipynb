{
 "cells": [
  {
   "cell_type": "code",
   "execution_count": 7,
   "metadata": {},
   "outputs": [
    {
     "name": "stdout",
     "output_type": "stream",
     "text": [
      "Current state: welcome\n",
      "Welcome! Would you like to search for recipes?\n"
     ]
    }
   ],
   "source": [
    "class StateMachine:\n",
    "    def __init__(self):\n",
    "        self.state = \"welcome\"\n",
    "        self.current_step = 0  # Tracking current step for recipe\n",
    "        self.state_messages = {\n",
    "            \"welcome\": \"Welcome! Would you like to search for recipes?\",\n",
    "            \"search\": \"What type of recipe are you looking for?\",\n",
    "            \"recipe\": \"Great! Let's get started with the recipe. Would you like to see the steps?\",\n",
    "            \"recipe_steps\": \"Let's proceed to the next step. Do you want to continue?\",\n",
    "            \"end\": \"Thank you for using our service!\"\n",
    "        }\n",
    "\n",
    "    def transition(self, user_input):\n",
    "        if self.state == \"end\":\n",
    "            print(self.state_messages[self.state])\n",
    "            return\n",
    "\n",
    "        print(self.state_messages[self.state])\n",
    "        if self.state == \"welcome\":\n",
    "            self.state = \"search\" if user_input.lower() in [\"yes\", \"sure\", \"okay\"] else \"end\"\n",
    "        elif self.state == \"search\":\n",
    "            self.state = \"recipe\" if user_input.lower() in [\"yes\", \"sure\", \"okay\"] else \"end\"\n",
    "        elif self.state == \"recipe\":\n",
    "            self.state = \"recipe_steps\" if user_input.lower() in [\"yes\", \"sure\", \"okay\"] else \"end\"\n",
    "        elif self.state == \"recipe_steps\":\n",
    "            self.state = \"recipe_steps\" if user_input.lower() in [\"yes\", \"sure\", \"okay\"] else \"end\"\n",
    "\n",
    "        return self.state\n",
    "    \n",
    "    def current_state(self):\n",
    "        return self.state\n",
    "\n",
    "# Example usage:\n",
    "if __name__ == \"__main__\":\n",
    "    sm = StateMachine()\n",
    "\n",
    "    while sm.current_state() != \"end\":\n",
    "        print(\"Current state:\", sm.current_state())\n",
    "        user_input = input(\"> \")\n",
    "        sm.transition(user_input)\n",
    "        print(sm.current_state())\n"
   ]
  },
  {
   "cell_type": "code",
   "execution_count": null,
   "metadata": {},
   "outputs": [],
   "source": []
  },
  {
   "cell_type": "code",
   "execution_count": null,
   "metadata": {},
   "outputs": [],
   "source": []
  }
 ],
 "metadata": {
  "kernelspec": {
   "display_name": "nlp-cv-ir",
   "language": "python",
   "name": "python3"
  },
  "language_info": {
   "codemirror_mode": {
    "name": "ipython",
    "version": 3
   },
   "file_extension": ".py",
   "mimetype": "text/x-python",
   "name": "python",
   "nbconvert_exporter": "python",
   "pygments_lexer": "ipython3",
   "version": "3.9.18"
  }
 },
 "nbformat": 4,
 "nbformat_minor": 2
}
